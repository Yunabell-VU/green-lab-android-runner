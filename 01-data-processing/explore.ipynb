{
 "cells": [
  {
   "cell_type": "markdown",
   "metadata": {},
   "source": [
    "# Data Exploration"
   ]
  },
  {
   "cell_type": "markdown",
   "metadata": {},
   "source": [
    "## Preparation\n",
    "Combine all the experiment data into one txt file."
   ]
  },
  {
   "cell_type": "code",
   "execution_count": 10,
   "metadata": {
    "ExecuteTime": {
     "start_time": "2023-10-24T23:07:40.802310Z",
     "end_time": "2023-10-24T23:07:40.804427Z"
    }
   },
   "outputs": [],
   "source": [
    "import pandas as pd\n",
    "import numpy as np\n",
    "import matplotlib.pyplot as plt\n",
    "import os"
   ]
  },
  {
   "cell_type": "code",
   "execution_count": 11,
   "metadata": {
    "ExecuteTime": {
     "start_time": "2023-10-24T23:07:41.528925Z",
     "end_time": "2023-10-24T23:07:41.532847Z"
    }
   },
   "outputs": [
    {
     "name": "stdout",
     "output_type": "stream",
     "text": [
      "['trial1_chrome_off_idle.csv', 'trial2_chrome_off_low_even.csv', 'trial3_chrome_off_low_burst.csv', 'trial4_chrome_off_high_even.csv', 'trial5_chrome_off_high_burst.csv', 'trial6_chrome_on_idle.csv', 'trial7_chrome_on_low_even.csv', 'trial8_chrome_on_low_burst.csv', 'trial9_chrome_on_high_even.csv', 'trial10_chrome_on_high_burst.csv', 'trial11_firefox_off_idle.csv', 'trial12_firefox_off_low_even.csv', 'trial13_firefox_off_low_burst.csv', 'trial14_firefox_off_high_even.csv', 'trial15_firefox_off_high_burst.csv', 'trial16_firefox_on_idle.csv', 'trial17_firefox_on_low_even.csv', 'trial18_firefox_on_low_burst.csv', 'trial19_firefox_on_high_even.csv', 'trial20_firefox_on_high_burst.csv']\n"
     ]
    }
   ],
   "source": [
    "folder_path = ''\n",
    "file_list = os.listdir(folder_path)\n",
    "file_list = [file for file in file_list if file.endswith('.csv')]\n",
    "sorted_files = sorted(file_list, key=lambda x: int(x.split('trial')[1].split('_')[0]))\n",
    "print(sorted_files)"
   ]
  },
  {
   "cell_type": "markdown",
   "metadata": {},
   "source": [
    "Combine the 20 files into one data frame."
   ]
  },
  {
   "cell_type": "code",
   "execution_count": 12,
   "metadata": {
    "ExecuteTime": {
     "start_time": "2023-10-24T23:07:45.028378Z",
     "end_time": "2023-10-24T23:07:45.073270Z"
    }
   },
   "outputs": [
    {
     "data": {
      "text/plain": "          device             subject  run  EXTRA_VOLTAGE  \\\n0  pixel5g-wifid  com-android-chrome    0         4320.0   \n1  pixel5g-wifid  com-android-chrome    1         4320.0   \n2  pixel5g-wifid  com-android-chrome    2         4320.0   \n3  pixel5g-wifid  com-android-chrome    3         4320.0   \n4  pixel5g-wifid  com-android-chrome    4         4320.0   \n\n   BATTERY_PROPERTY_CURRENT_NOW  Timestamp  Energy trapz (J)  \\\n0                 -89602.502339  59.982198         46.088980   \n1                 -91728.621723  59.996301         47.109575   \n2                 -91029.313377  59.898820         46.748119   \n3                 -87688.270093  59.934152         44.908934   \n4                 -91437.152622  59.991726         47.022149   \n\n   Energy simple (J)  Avg power (W) trail_nr browser notification_status  \\\n0          46.598190       0.387083   trial1  chrome                 off   \n1          47.677338       0.396268   trial1  chrome                 off   \n2          47.331558       0.393247   trial1  chrome                 off   \n3          45.596624       0.378813   trial1  chrome                 off   \n4          47.549938       0.395008   trial1  chrome                 off   \n\n  frequency  distribution  \n0      idle           NaN  \n1      idle           NaN  \n2      idle           NaN  \n3      idle           NaN  \n4      idle           NaN  ",
      "text/html": "<div>\n<style scoped>\n    .dataframe tbody tr th:only-of-type {\n        vertical-align: middle;\n    }\n\n    .dataframe tbody tr th {\n        vertical-align: top;\n    }\n\n    .dataframe thead th {\n        text-align: right;\n    }\n</style>\n<table border=\"1\" class=\"dataframe\">\n  <thead>\n    <tr style=\"text-align: right;\">\n      <th></th>\n      <th>device</th>\n      <th>subject</th>\n      <th>run</th>\n      <th>EXTRA_VOLTAGE</th>\n      <th>BATTERY_PROPERTY_CURRENT_NOW</th>\n      <th>Timestamp</th>\n      <th>Energy trapz (J)</th>\n      <th>Energy simple (J)</th>\n      <th>Avg power (W)</th>\n      <th>trail_nr</th>\n      <th>browser</th>\n      <th>notification_status</th>\n      <th>frequency</th>\n      <th>distribution</th>\n    </tr>\n  </thead>\n  <tbody>\n    <tr>\n      <th>0</th>\n      <td>pixel5g-wifid</td>\n      <td>com-android-chrome</td>\n      <td>0</td>\n      <td>4320.0</td>\n      <td>-89602.502339</td>\n      <td>59.982198</td>\n      <td>46.088980</td>\n      <td>46.598190</td>\n      <td>0.387083</td>\n      <td>trial1</td>\n      <td>chrome</td>\n      <td>off</td>\n      <td>idle</td>\n      <td>NaN</td>\n    </tr>\n    <tr>\n      <th>1</th>\n      <td>pixel5g-wifid</td>\n      <td>com-android-chrome</td>\n      <td>1</td>\n      <td>4320.0</td>\n      <td>-91728.621723</td>\n      <td>59.996301</td>\n      <td>47.109575</td>\n      <td>47.677338</td>\n      <td>0.396268</td>\n      <td>trial1</td>\n      <td>chrome</td>\n      <td>off</td>\n      <td>idle</td>\n      <td>NaN</td>\n    </tr>\n    <tr>\n      <th>2</th>\n      <td>pixel5g-wifid</td>\n      <td>com-android-chrome</td>\n      <td>2</td>\n      <td>4320.0</td>\n      <td>-91029.313377</td>\n      <td>59.898820</td>\n      <td>46.748119</td>\n      <td>47.331558</td>\n      <td>0.393247</td>\n      <td>trial1</td>\n      <td>chrome</td>\n      <td>off</td>\n      <td>idle</td>\n      <td>NaN</td>\n    </tr>\n    <tr>\n      <th>3</th>\n      <td>pixel5g-wifid</td>\n      <td>com-android-chrome</td>\n      <td>3</td>\n      <td>4320.0</td>\n      <td>-87688.270093</td>\n      <td>59.934152</td>\n      <td>44.908934</td>\n      <td>45.596624</td>\n      <td>0.378813</td>\n      <td>trial1</td>\n      <td>chrome</td>\n      <td>off</td>\n      <td>idle</td>\n      <td>NaN</td>\n    </tr>\n    <tr>\n      <th>4</th>\n      <td>pixel5g-wifid</td>\n      <td>com-android-chrome</td>\n      <td>4</td>\n      <td>4320.0</td>\n      <td>-91437.152622</td>\n      <td>59.991726</td>\n      <td>47.022149</td>\n      <td>47.549938</td>\n      <td>0.395008</td>\n      <td>trial1</td>\n      <td>chrome</td>\n      <td>off</td>\n      <td>idle</td>\n      <td>NaN</td>\n    </tr>\n  </tbody>\n</table>\n</div>"
     },
     "execution_count": 12,
     "metadata": {},
     "output_type": "execute_result"
    }
   ],
   "source": [
    "for file in sorted_files:\n",
    "    file_path = os.path.join(folder_path, file)\n",
    "    df = pd.read_csv(file_path)\n",
    "    filename = file.split('.')[0]\n",
    "    df['trail_nr'] = filename.split('_')[0]\n",
    "    df['browser'] = filename.split('_')[1]\n",
    "    df['notification_status'] = filename.split('_')[2]\n",
    "    df['frequency'] = filename.split('_')[3]\n",
    "    if len(filename.split('_')) == 5:\n",
    "        df['distribution'] = filename.split('_')[4]\n",
    "    else:\n",
    "        df['distribution'] = ''\n",
    "    df.to_csv(file_path, index=False)\n",
    "# show the first 5 rows of the first csv file\n",
    "df = pd.read_csv('../00-data/trial1_chrome_off_idle.csv')\n",
    "df.head()# df = ..."
   ]
  },
  {
   "cell_type": "code",
   "execution_count": 13,
   "outputs": [],
   "source": [
    "# this step is to combine all the csv files into one txt file and export it\n",
    "dfs = []\n",
    "for file in sorted_files:\n",
    "    file_path = os.path.join(folder_path, file)\n",
    "    df = pd.read_csv(file_path)\n",
    "    dfs.append(df)\n",
    "combined_df = pd.concat(dfs)\n",
    "combined_df = combined_df[['trail_nr', 'browser', 'notification_status', 'frequency', 'distribution', 'Energy trapz (J)']]\n",
    "combined_df.columns = [ 'trail_nr', 'browser', 'notification_status', 'frequency', 'distribution','Energy_trapz (J)' ]\n",
    "combined_df = combined_df.fillna(\" \")\n",
    "# result path is here\n",
    "combined_df.to_csv(' ', sep=' ', index=False)"
   ],
   "metadata": {
    "collapsed": false,
    "ExecuteTime": {
     "start_time": "2023-10-24T23:07:48.676489Z",
     "end_time": "2023-10-24T23:07:48.700442Z"
    }
   }
  },
  {
   "cell_type": "markdown",
   "metadata": {},
   "source": [
    "## Summary of Data"
   ]
  },
  {
   "cell_type": "markdown",
   "metadata": {},
   "source": [
    "- summary\n",
    "- SD, Mean, Median, Min, Max"
   ]
  },
  {
   "cell_type": "code",
   "execution_count": 14,
   "metadata": {
    "ExecuteTime": {
     "start_time": "2023-10-24T23:07:53.418381Z",
     "end_time": "2023-10-24T23:07:53.455667Z"
    }
   },
   "outputs": [
    {
     "name": "stdout",
     "output_type": "stream",
     "text": [
      "\n",
      " This is the summary of file:  trial1_chrome_off_idle.csv\n",
      "count    30.000000\n",
      "mean     46.231307\n",
      "std       2.426237\n",
      "min      35.072987\n",
      "25%      45.928497\n",
      "50%      46.741965\n",
      "75%      47.259847\n",
      "max      49.779550\n",
      "Name: Energy trapz (J), dtype: float64\n",
      "\n",
      " This is the summary of file:  trial2_chrome_off_low_even.csv\n",
      "count    30.000000\n",
      "mean     48.062190\n",
      "std       2.258378\n",
      "min      40.902735\n",
      "25%      46.846682\n",
      "50%      47.755688\n",
      "75%      49.694906\n",
      "max      52.517839\n",
      "Name: Energy trapz (J), dtype: float64\n",
      "\n",
      " This is the summary of file:  trial3_chrome_off_low_burst.csv\n",
      "count    30.000000\n",
      "mean     46.470891\n",
      "std       3.662616\n",
      "min      31.836826\n",
      "25%      46.146616\n",
      "50%      47.540395\n",
      "75%      48.074592\n",
      "max      49.775571\n",
      "Name: Energy trapz (J), dtype: float64\n",
      "\n",
      " This is the summary of file:  trial4_chrome_off_high_even.csv\n",
      "count    30.000000\n",
      "mean     57.632000\n",
      "std       3.423639\n",
      "min      51.963999\n",
      "25%      55.341675\n",
      "50%      57.469885\n",
      "75%      59.927178\n",
      "max      66.669379\n",
      "Name: Energy trapz (J), dtype: float64\n",
      "\n",
      " This is the summary of file:  trial5_chrome_off_high_burst.csv\n",
      "count    30.000000\n",
      "mean     55.722850\n",
      "std       2.122315\n",
      "min      51.884041\n",
      "25%      54.424580\n",
      "50%      55.193935\n",
      "75%      56.616161\n",
      "max      62.776967\n",
      "Name: Energy trapz (J), dtype: float64\n",
      "\n",
      " This is the summary of file:  trial6_chrome_on_idle.csv\n",
      "count    30.000000\n",
      "mean     48.189717\n",
      "std       2.522297\n",
      "min      37.548153\n",
      "25%      47.311992\n",
      "50%      48.392537\n",
      "75%      49.191719\n",
      "max      53.775582\n",
      "Name: Energy trapz (J), dtype: float64\n",
      "\n",
      " This is the summary of file:  trial7_chrome_on_low_even.csv\n",
      "count    30.000000\n",
      "mean     63.131324\n",
      "std       2.280437\n",
      "min      58.458035\n",
      "25%      61.855803\n",
      "50%      62.990581\n",
      "75%      63.976551\n",
      "max      70.675791\n",
      "Name: Energy trapz (J), dtype: float64\n",
      "\n",
      " This is the summary of file:  trial8_chrome_on_low_burst.csv\n",
      "count    30.000000\n",
      "mean     63.163399\n",
      "std       3.743273\n",
      "min      54.408531\n",
      "25%      61.257266\n",
      "50%      61.985566\n",
      "75%      64.577342\n",
      "max      73.779614\n",
      "Name: Energy trapz (J), dtype: float64\n",
      "\n",
      " This is the summary of file:  trial9_chrome_on_high_even.csv\n",
      "count    30.000000\n",
      "mean     71.415088\n",
      "std       3.292268\n",
      "min      66.444458\n",
      "25%      69.386442\n",
      "50%      70.704093\n",
      "75%      72.995564\n",
      "max      82.381139\n",
      "Name: Energy trapz (J), dtype: float64\n",
      "\n",
      " This is the summary of file:  trial10_chrome_on_high_burst.csv\n",
      "count    30.000000\n",
      "mean     69.472503\n",
      "std       4.309101\n",
      "min      63.612685\n",
      "25%      66.824081\n",
      "50%      68.163287\n",
      "75%      71.509065\n",
      "max      79.280687\n",
      "Name: Energy trapz (J), dtype: float64\n",
      "\n",
      " This is the summary of file:  trial11_firefox_off_idle.csv\n",
      "count    30.000000\n",
      "mean     36.114344\n",
      "std       2.328119\n",
      "min      33.883985\n",
      "25%      34.743289\n",
      "50%      35.339613\n",
      "75%      36.456518\n",
      "max      43.022827\n",
      "Name: Energy trapz (J), dtype: float64\n",
      "\n",
      " This is the summary of file:  trial12_firefox_off_low_even.csv\n",
      "count    30.000000\n",
      "mean     40.333649\n",
      "std       4.713024\n",
      "min      36.383575\n",
      "25%      37.816089\n",
      "50%      38.935969\n",
      "75%      40.087661\n",
      "max      57.800486\n",
      "Name: Energy trapz (J), dtype: float64\n",
      "\n",
      " This is the summary of file:  trial13_firefox_off_low_burst.csv\n",
      "count    30.000000\n",
      "mean     36.941577\n",
      "std       3.002451\n",
      "min      33.932593\n",
      "25%      35.508640\n",
      "50%      36.421828\n",
      "75%      37.003401\n",
      "max      47.857030\n",
      "Name: Energy trapz (J), dtype: float64\n",
      "\n",
      " This is the summary of file:  trial14_firefox_off_high_even.csv\n",
      "count    30.000000\n",
      "mean     49.318097\n",
      "std       2.367883\n",
      "min      46.506736\n",
      "25%      48.170534\n",
      "50%      48.642646\n",
      "75%      49.644018\n",
      "max      59.219960\n",
      "Name: Energy trapz (J), dtype: float64\n",
      "\n",
      " This is the summary of file:  trial15_firefox_off_high_burst.csv\n",
      "count    30.000000\n",
      "mean     40.276342\n",
      "std       3.182904\n",
      "min      37.288290\n",
      "25%      38.684009\n",
      "50%      39.380340\n",
      "75%      40.200699\n",
      "max      50.812927\n",
      "Name: Energy trapz (J), dtype: float64\n",
      "\n",
      " This is the summary of file:  trial16_firefox_on_idle.csv\n",
      "count    30.000000\n",
      "mean     37.465647\n",
      "std       3.620355\n",
      "min      33.423310\n",
      "25%      34.580899\n",
      "50%      35.981993\n",
      "75%      40.757351\n",
      "max      44.383420\n",
      "Name: Energy trapz (J), dtype: float64\n",
      "\n",
      " This is the summary of file:  trial17_firefox_on_low_even.csv\n",
      "count    30.000000\n",
      "mean     58.934200\n",
      "std       4.833540\n",
      "min      47.935802\n",
      "25%      57.756492\n",
      "50%      58.514797\n",
      "75%      59.588219\n",
      "max      69.087108\n",
      "Name: Energy trapz (J), dtype: float64\n",
      "\n",
      " This is the summary of file:  trial18_firefox_on_low_burst.csv\n",
      "count    30.000000\n",
      "mean     45.292836\n",
      "std       2.617430\n",
      "min      42.307277\n",
      "25%      43.786046\n",
      "50%      44.801140\n",
      "75%      45.806852\n",
      "max      54.083326\n",
      "Name: Energy trapz (J), dtype: float64\n",
      "\n",
      " This is the summary of file:  trial19_firefox_on_high_even.csv\n",
      "count    30.000000\n",
      "mean     53.795280\n",
      "std       3.094874\n",
      "min      50.264944\n",
      "25%      51.937805\n",
      "50%      52.907860\n",
      "75%      55.081185\n",
      "max      64.460202\n",
      "Name: Energy trapz (J), dtype: float64\n",
      "\n",
      " This is the summary of file:  trial20_firefox_on_high_burst.csv\n",
      "count    30.000000\n",
      "mean     42.876404\n",
      "std       3.454019\n",
      "min      39.067991\n",
      "25%      41.245712\n",
      "50%      41.843321\n",
      "75%      43.084481\n",
      "max      52.851727\n",
      "Name: Energy trapz (J), dtype: float64\n"
     ]
    }
   ],
   "source": [
    "#summary each file in the file_list\n",
    "data= []\n",
    "describe_result = []\n",
    "for file in sorted_files:\n",
    "    file_path = os.path.join(folder_path, file)\n",
    "    df = pd.read_csv(file_path)\n",
    "    data.append(df['Energy trapz (J)'])\n",
    "    print(\"\\n This is the summary of file: \", file)\n",
    "    print(df['Energy trapz (J)'].describe())"
   ]
  },
  {
   "cell_type": "code",
   "execution_count": null,
   "outputs": [],
   "source": [],
   "metadata": {
    "collapsed": false
   }
  }
 ],
 "metadata": {
  "kernelspec": {
   "display_name": "Python 3",
   "language": "python",
   "name": "python3"
  },
  "language_info": {
   "codemirror_mode": {
    "name": "ipython",
    "version": 3
   },
   "file_extension": ".py",
   "mimetype": "text/x-python",
   "name": "python",
   "nbconvert_exporter": "python",
   "pygments_lexer": "ipython3",
   "version": "3.9.6"
  }
 },
 "nbformat": 4,
 "nbformat_minor": 2
}
